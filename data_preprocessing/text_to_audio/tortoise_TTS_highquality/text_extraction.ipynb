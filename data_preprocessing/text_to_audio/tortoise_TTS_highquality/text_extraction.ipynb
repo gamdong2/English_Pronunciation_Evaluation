{
 "cells": [
  {
   "cell_type": "markdown",
   "metadata": {},
   "source": [
    "### 텍스트 한문장씩 텍스트 파일로 저장하기\n",
    "\n",
    "1. tortoise/text 경로에 텍스트 원본 존재(10줄 형태)\n",
    "2. 텍스트 원본(10줄)을 한 줄씩(줄바꿈 기준으로) 텍스트 파일로 tortoise/text_new 경로로 저장\n",
    "3. tortoise.ipynb 파일에서 text_new 경로의 텍스트 파일(한 줄씩 추춘된 텍스트 파일)을 음성으로 바꿈  "
   ]
  },
  {
   "cell_type": "code",
   "execution_count": 1,
   "metadata": {},
   "outputs": [
    {
     "name": "stdout",
     "output_type": "stream",
     "text": [
      "각 텍스트 파일의 줄이 개별 파일로 \"tortoise/text_new\" 폴더에 저장되었습니다.\n"
     ]
    }
   ],
   "source": [
    "import os\n",
    "\n",
    "# 원본 텍스트 파일이 있는 폴더\n",
    "input_folder = 'tortoise/text'\n",
    "\n",
    "# 출력 폴더 설정 (저장할 파일을 위한 디렉토리 생성)\n",
    "output_root_folder = 'tortoise/text_new'\n",
    "os.makedirs(output_root_folder, exist_ok=True)\n",
    "\n",
    "# 입력 폴더 내 모든 파일 처리\n",
    "for input_file_name in os.listdir(input_folder):\n",
    "    # 파일 경로 설정\n",
    "    input_file_path = os.path.join(input_folder, input_file_name)\n",
    "    \n",
    "    # 파일이 텍스트 파일인지 확인\n",
    "    if os.path.isfile(input_file_path) and input_file_name.endswith('.txt'):\n",
    "        # 해당 파일에 대한 출력 폴더 생성\n",
    "        base_name = os.path.splitext(input_file_name)[0]  # 파일 이름에서 확장자 제거\n",
    "        output_folder = os.path.join(output_root_folder, base_name)\n",
    "        os.makedirs(output_folder, exist_ok=True)\n",
    "        \n",
    "        # 텍스트 파일 읽고 줄바꿈 기준으로 나누기\n",
    "        with open(input_file_path, 'r', encoding='utf-8') as file:\n",
    "            lines = file.readlines()\n",
    "        \n",
    "        # 각 줄을 개별 파일로 저장\n",
    "        for i, line in enumerate(lines):\n",
    "            # 빈 줄은 저장하지 않음\n",
    "            if line.strip():\n",
    "                output_file_path = os.path.join(output_folder, f'text_line_{i+1}.txt')\n",
    "                with open(output_file_path, 'w', encoding='utf-8') as output_file:\n",
    "                    output_file.write(line)\n",
    "\n",
    "print(f'각 텍스트 파일의 줄이 개별 파일로 \"{output_root_folder}\" 폴더에 저장되었습니다.')\n"
   ]
  }
 ],
 "metadata": {
  "kernelspec": {
   "display_name": "tortoise",
   "language": "python",
   "name": "python3"
  },
  "language_info": {
   "codemirror_mode": {
    "name": "ipython",
    "version": 3
   },
   "file_extension": ".py",
   "mimetype": "text/x-python",
   "name": "python",
   "nbconvert_exporter": "python",
   "pygments_lexer": "ipython3",
   "version": "3.9.20"
  }
 },
 "nbformat": 4,
 "nbformat_minor": 2
}
