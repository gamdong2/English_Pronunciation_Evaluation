{
 "cells": [
  {
   "cell_type": "code",
   "execution_count": 4,
   "metadata": {},
   "outputs": [],
   "source": [
    "import torch\n",
    "from transformers import VitsTokenizer, VitsModel, set_seed\n",
    "\n",
    "tokenizer = VitsTokenizer.from_pretrained(\"facebook/mms-tts-eng\")\n",
    "model = VitsModel.from_pretrained(\"facebook/mms-tts-eng\")\n",
    "\n",
    "inputs = tokenizer(text=\"Despite the complexity of human emotions, understanding them remains a daunting task, challenging even the most advanced AI systems today.\", return_tensors=\"pt\")\n",
    "\n",
    "set_seed(555)  # make deterministic\n",
    "\n",
    "with torch.no_grad():\n",
    "   outputs = model(**inputs)\n",
    "\n",
    "waveform = outputs.waveform[0]"
   ]
  },
  {
   "cell_type": "code",
   "execution_count": 5,
   "metadata": {},
   "outputs": [],
   "source": [
    "import scipy\n",
    "import torch\n",
    "\n",
    "# waveform을 numpy 배열로 변환\n",
    "waveform_numpy = waveform.numpy() if isinstance(waveform, torch.Tensor) else waveform\n",
    "\n",
    "# 오디오 파일 저장\n",
    "scipy.io.wavfile.write(\"techno2.wav\", rate=model.config.sampling_rate, data=waveform_numpy)\n"
   ]
  },
  {
   "cell_type": "code",
   "execution_count": null,
   "metadata": {},
   "outputs": [
    {
     "data": {
      "text/plain": [
       "1"
      ]
     },
     "execution_count": 7,
     "metadata": {},
     "output_type": "execute_result"
    }
   ],
   "source": [
    "# 최종 선정: gTTS!!!!!!!!!!!!!!!!!!!\n",
    "from gtts import gTTS\n",
    "import os\n",
    "text = \"Despite the complexity of human emotions, understanding them remains a daunting task, challenging even the most advanced AI systems today.\"\n",
    "tts = gTTS(text)\n",
    "tts.save(\"techno3.mp3\")\n",
    "os.system(\"start output.mp3\")  # Windows에서 음성 파일 실행"
   ]
  },
  {
   "cell_type": "code",
   "execution_count": 1,
   "metadata": {},
   "outputs": [
    {
     "data": {
      "application/vnd.jupyter.widget-view+json": {
       "model_id": "8204df25ba3843938ea0e7a7644785f9",
       "version_major": 2,
       "version_minor": 0
      },
      "text/plain": [
       "config.json:   0%|          | 0.00/6.10k [00:00<?, ?B/s]"
      ]
     },
     "metadata": {},
     "output_type": "display_data"
    },
    {
     "name": "stderr",
     "output_type": "stream",
     "text": [
      "c:\\Users\\user\\anaconda3\\envs\\4th_math\\lib\\site-packages\\huggingface_hub-0.24.6-py3.8.egg\\huggingface_hub\\file_download.py:159: UserWarning: `huggingface_hub` cache-system uses symlinks by default to efficiently store duplicated files but your machine does not support them in C:\\Users\\user\\.cache\\huggingface\\hub\\models--espnet--fastspeech2_conformer_with_hifigan. Caching files will still work but in a degraded version that might require more space on your disk. This warning can be disabled by setting the `HF_HUB_DISABLE_SYMLINKS_WARNING` environment variable. For more details, see https://huggingface.co/docs/huggingface_hub/how-to-cache#limitations.\n",
      "To support symlinks on Windows, you either need to activate Developer Mode or to run Python as an administrator. In order to see activate developer mode, see this article: https://docs.microsoft.com/en-us/windows/apps/get-started/enable-your-device-for-development\n"
     ]
    },
    {
     "data": {
      "application/vnd.jupyter.widget-view+json": {
       "model_id": "8f0dc6e595564b27addf7376f6d4d2a0",
       "version_major": 2,
       "version_minor": 0
      },
      "text/plain": [
       "pytorch_model.bin:   0%|          | 0.00/337M [00:00<?, ?B/s]"
      ]
     },
     "metadata": {},
     "output_type": "display_data"
    },
    {
     "name": "stderr",
     "output_type": "stream",
     "text": [
      "Some weights of FastSpeech2ConformerWithHifiGan were not initialized from the model checkpoint at espnet/fastspeech2_conformer_with_hifigan and are newly initialized: ['vocoder.mean', 'vocoder.scale']\n",
      "You should probably TRAIN this model on a down-stream task to be able to use it for predictions and inference.\n"
     ]
    },
    {
     "data": {
      "application/vnd.jupyter.widget-view+json": {
       "model_id": "7b3fa96d071b4fb4b2fb50761252d087",
       "version_major": 2,
       "version_minor": 0
      },
      "text/plain": [
       "model.safetensors:   0%|          | 0.00/337M [00:00<?, ?B/s]"
      ]
     },
     "metadata": {},
     "output_type": "display_data"
    }
   ],
   "source": [
    "from transformers import FastSpeech2ConformerTokenizer, FastSpeech2ConformerWithHifiGan\n",
    "import soundfile as sf\n",
    "\n",
    "tokenizer = FastSpeech2ConformerTokenizer.from_pretrained(\"espnet/fastspeech2_conformer\")\n",
    "inputs = tokenizer(\"Despite the complexity of human emotions, understanding them remains a daunting task, challenging even the most advanced AI systems today.\", return_tensors=\"pt\")\n",
    "input_ids = inputs[\"input_ids\"]\n",
    "\n",
    "model = FastSpeech2ConformerWithHifiGan.from_pretrained(\"espnet/fastspeech2_conformer_with_hifigan\")\n",
    "output_dict = model(input_ids, return_dict=True)\n",
    "waveform = output_dict[\"waveform\"]\n",
    "\n",
    "sf.write(\"techno4.wav\", waveform.squeeze().detach().numpy(), samplerate=22050)"
   ]
  }
 ],
 "metadata": {
  "kernelspec": {
   "display_name": "4th_math",
   "language": "python",
   "name": "python3"
  },
  "language_info": {
   "codemirror_mode": {
    "name": "ipython",
    "version": 3
   },
   "file_extension": ".py",
   "mimetype": "text/x-python",
   "name": "python",
   "nbconvert_exporter": "python",
   "pygments_lexer": "ipython3",
   "version": "3.9.19"
  }
 },
 "nbformat": 4,
 "nbformat_minor": 2
}
