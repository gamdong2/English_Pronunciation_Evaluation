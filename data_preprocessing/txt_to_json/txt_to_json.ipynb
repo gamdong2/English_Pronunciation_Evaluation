{
 "cells": [
  {
   "cell_type": "code",
   "execution_count": 81,
   "metadata": {},
   "outputs": [],
   "source": [
    "# novel\n",
    "import json\n",
    "import re\n",
    "\n",
    "# 입력 텍스트 파일 경로 및 출력 JSON 파일 경로 설정\n",
    "input_text_path = \"../../Data/text/rawdata/novel.txt\"\n",
    "json_output_path = \"../../Data/text/novel.json\"\n",
    "\n",
    "# JSON 데이터 초기화\n",
    "data = {\n",
    "    \"categories\": [\n",
    "        {\n",
    "            \"category_name\": \"novel\",\n",
    "            \"levels\": []\n",
    "        }\n",
    "    ]\n",
    "}\n",
    "\n",
    "# 텍스트 파일 읽기\n",
    "with open(input_text_path, \"r\", encoding=\"utf-8\") as file:\n",
    "    content = file.read()"
   ]
  },
  {
   "cell_type": "code",
   "execution_count": 82,
   "metadata": {},
   "outputs": [],
   "source": [
    "# 레벨 구분 및 각 섹션을 분리\n",
    "level_sections = re.split(r\"(_level\\d+)\", content, flags=re.IGNORECASE)\n",
    "\n",
    "# 각 레벨 섹션을 반복하여 파싱\n",
    "for i in range(1, len(level_sections), 2):\n",
    "    level_header = level_sections[i].strip()\n",
    "    level_content = level_sections[i + 1].strip()\n",
    "\n",
    "    # 레벨 번호 추출\n",
    "    level_match = re.match(r\"_level(\\d+)\", level_header, flags=re.IGNORECASE)\n",
    "    if level_match:\n",
    "        level_number = int(level_match.group(1))\n",
    "\n",
    "        # 레벨 데이터 초기화\n",
    "        level_data = {\n",
    "            \"level\": level_number,\n",
    "            \"scripts\": []\n",
    "        }\n",
    "\n",
    "        # 주제 구분 (두 줄 바꿈으로 구분)\n",
    "        topics = level_content.split(\"\\n\\n\")\n",
    "        for topic in topics:\n",
    "            lines = topic.strip().splitlines()\n",
    "            if lines:\n",
    "                # 제목과 내용 추출\n",
    "                title_match = re.match(r\"^\\d+\\.\\s*(.*)\", lines[0])\n",
    "                if title_match:\n",
    "                    title = title_match.group(1)\n",
    "                    contents = [line.strip() for line in lines[1:] if line.strip()]\n",
    "                    script_data = {\n",
    "                        \"title\": title,\n",
    "                        \"contents\": contents\n",
    "                    }\n",
    "                    level_data[\"scripts\"].append(script_data)\n",
    "\n",
    "        # JSON 구조에 레벨 데이터 추가\n",
    "        data[\"categories\"][0][\"levels\"].append(level_data)"
   ]
  },
  {
   "cell_type": "code",
   "execution_count": 83,
   "metadata": {},
   "outputs": [
    {
     "name": "stdout",
     "output_type": "stream",
     "text": [
      "JSON 파일이 '../../Data/text/novel.json'에 저장되었습니다.\n"
     ]
    }
   ],
   "source": [
    "# JSON 파일로 저장\n",
    "with open(json_output_path, \"w\", encoding=\"utf-8\") as json_file:\n",
    "    json.dump(data, json_file, ensure_ascii=False, indent=4)\n",
    "\n",
    "print(f\"JSON 파일이 '{json_output_path}'에 저장되었습니다.\")"
   ]
  },
  {
   "cell_type": "code",
   "execution_count": 85,
   "metadata": {},
   "outputs": [],
   "source": [
    "# conversation\n",
    "import json\n",
    "import re\n",
    "\n",
    "# 입력 텍스트 파일 경로 및 출력 JSON 파일 경로 설정\n",
    "input_text_path = \"../../Data/text/rawdata/conversation.txt\"\n",
    "json_output_path = \"../../Data/text/conversation.json\"\n",
    "\n",
    "# JSON 데이터 초기화\n",
    "data = {\n",
    "    \"categories\": [\n",
    "        {\n",
    "            \"category_name\": \"conversation\",\n",
    "            \"levels\": []\n",
    "        }\n",
    "    ]\n",
    "}\n",
    "\n",
    "# 텍스트 파일 읽기\n",
    "with open(input_text_path, \"r\", encoding=\"utf-8\") as file:\n",
    "    content = file.read()"
   ]
  },
  {
   "cell_type": "code",
   "execution_count": 86,
   "metadata": {},
   "outputs": [],
   "source": [
    "# 레벨 구분 및 각 섹션을 분리\n",
    "level_sections = re.split(r\"(_level\\d+)\", content, flags=re.IGNORECASE)\n",
    "\n",
    "# 각 레벨 섹션을 반복하여 파싱\n",
    "for i in range(1, len(level_sections), 2):\n",
    "    level_header = level_sections[i].strip()\n",
    "    level_content = level_sections[i + 1].strip()\n",
    "\n",
    "    # 레벨 번호 추출\n",
    "    level_match = re.match(r\"_level(\\d+)\", level_header, flags=re.IGNORECASE)\n",
    "    if level_match:\n",
    "        level_number = int(level_match.group(1))\n",
    "\n",
    "        # 레벨 데이터 초기화\n",
    "        level_data = {\n",
    "            \"level\": level_number,\n",
    "            \"scripts\": []\n",
    "        }\n",
    "\n",
    "        # 주제 구분 (두 줄 바꿈으로 구분)\n",
    "        topics = level_content.split(\"\\n\\n\")\n",
    "        for topic in topics:\n",
    "            lines = topic.strip().splitlines()\n",
    "            if lines:\n",
    "                # 제목과 내용 추출\n",
    "                title_match = re.match(r\"^\\d+\\.\\s*(.*)\", lines[0])\n",
    "                if title_match:\n",
    "                    title = title_match.group(1)\n",
    "                    contents = [line.strip() for line in lines[1:] if line.strip()]\n",
    "                    script_data = {\n",
    "                        \"title\": title,\n",
    "                        \"contents\": contents\n",
    "                    }\n",
    "                    level_data[\"scripts\"].append(script_data)\n",
    "\n",
    "        # JSON 구조에 레벨 데이터 추가\n",
    "        data[\"categories\"][0][\"levels\"].append(level_data)"
   ]
  },
  {
   "cell_type": "code",
   "execution_count": 87,
   "metadata": {},
   "outputs": [
    {
     "name": "stdout",
     "output_type": "stream",
     "text": [
      "JSON 파일이 '../../Data/text/conversation.json'에 저장되었습니다.\n"
     ]
    }
   ],
   "source": [
    "# JSON 파일로 저장\n",
    "with open(json_output_path, \"w\", encoding=\"utf-8\") as json_file:\n",
    "    json.dump(data, json_file, ensure_ascii=False, indent=4)\n",
    "\n",
    "print(f\"JSON 파일이 '{json_output_path}'에 저장되었습니다.\")"
   ]
  },
  {
   "cell_type": "code",
   "execution_count": 1,
   "metadata": {},
   "outputs": [],
   "source": [
    "# phonics\n",
    "import json\n",
    "import re\n",
    "\n",
    "# 입력 텍스트 파일 경로 및 출력 JSON 파일 경로 설정\n",
    "input_text_path = \"../../Data/text/rawdata/phonics.txt\"\n",
    "json_output_path = \"../../Data/text/phonics.json\"\n",
    "\n",
    "# JSON 데이터 초기화\n",
    "data = {\n",
    "    \"categories\": [\n",
    "        {\n",
    "            \"category_name\": \"phonics\",\n",
    "            \"levels\": []\n",
    "        }\n",
    "    ]\n",
    "}\n",
    "\n",
    "# 텍스트 파일 읽기\n",
    "with open(input_text_path, \"r\", encoding=\"utf-8\") as file:\n",
    "    content = file.read()"
   ]
  },
  {
   "cell_type": "code",
   "execution_count": 2,
   "metadata": {},
   "outputs": [],
   "source": [
    "# 레벨 구분 및 각 섹션을 분리\n",
    "level_sections = re.split(r\"(_level\\d+)\", content, flags=re.IGNORECASE)\n",
    "\n",
    "# 각 레벨 섹션을 반복하여 파싱\n",
    "for i in range(1, len(level_sections), 2):\n",
    "    level_header = level_sections[i].strip()\n",
    "    level_content = level_sections[i + 1].strip()\n",
    "\n",
    "    # 레벨 번호 추출\n",
    "    level_match = re.match(r\"_level(\\d+)\", level_header, flags=re.IGNORECASE)\n",
    "    if level_match:\n",
    "        level_number = int(level_match.group(1))\n",
    "\n",
    "        # 레벨 데이터 초기화\n",
    "        level_data = {\n",
    "            \"level\": level_number,\n",
    "            \"scripts\": []\n",
    "        }\n",
    "\n",
    "        # 주제 구분 (두 줄 바꿈으로 구분)\n",
    "        topics = level_content.split(\"\\n\\n\")\n",
    "        for topic in topics:\n",
    "            lines = topic.strip().splitlines()\n",
    "            if lines:\n",
    "                # 제목과 내용 추출\n",
    "                title_match = re.match(r\"^\\d+\\.\\s*(.*)\", lines[0])\n",
    "                if title_match:\n",
    "                    title = title_match.group(1)\n",
    "                    contents = [line.strip() for line in lines[1:] if line.strip()]\n",
    "                    script_data = {\n",
    "                        \"title\": title,\n",
    "                        \"contents\": contents\n",
    "                    }\n",
    "                    level_data[\"scripts\"].append(script_data)\n",
    "\n",
    "        # JSON 구조에 레벨 데이터 추가\n",
    "        data[\"categories\"][0][\"levels\"].append(level_data)"
   ]
  },
  {
   "cell_type": "code",
   "execution_count": 3,
   "metadata": {},
   "outputs": [
    {
     "name": "stdout",
     "output_type": "stream",
     "text": [
      "JSON 파일이 '../../Data/text/phonics.json'에 저장되었습니다.\n"
     ]
    }
   ],
   "source": [
    "# JSON 파일로 저장\n",
    "with open(json_output_path, \"w\", encoding=\"utf-8\") as json_file:\n",
    "    json.dump(data, json_file, ensure_ascii=False, indent=4)\n",
    "\n",
    "print(f\"JSON 파일이 '{json_output_path}'에 저장되었습니다.\")"
   ]
  }
 ],
 "metadata": {
  "kernelspec": {
   "display_name": "4th_math",
   "language": "python",
   "name": "python3"
  },
  "language_info": {
   "codemirror_mode": {
    "name": "ipython",
    "version": 3
   },
   "file_extension": ".py",
   "mimetype": "text/x-python",
   "name": "python",
   "nbconvert_exporter": "python",
   "pygments_lexer": "ipython3",
   "version": "3.9.19"
  }
 },
 "nbformat": 4,
 "nbformat_minor": 2
}
